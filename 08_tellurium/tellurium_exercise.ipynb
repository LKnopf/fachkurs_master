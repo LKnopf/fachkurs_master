{
 "cells": [
  {
   "cell_type": "code",
   "execution_count": 18,
   "metadata": {
    "collapsed": false
   },
   "outputs": [],
   "source": [
    "# python 3 compatibility\n",
    "from __future__ import print_function\n",
    "from __future__ import division\n",
    "\n",
    "import tellurium as te\n",
    "import matplotlib.pyplot as plt\n",
    "import numpy as np\n",
    "\n",
    "%matplotlib inline  "
   ]
  },
  {
   "cell_type": "markdown",
   "metadata": {},
   "source": [
    "# Lotka-Voltera System\n",
    "Implement the Lotka-Voltera reactions we already know from the numpy exercise\n",
    "$$ \\begin{align} \n",
    "r1:& \\;\\; X \\rightarrow 2 X \\\\ \n",
    "r2:& \\;\\; X + Y \\rightarrow 2 Y \\\\\n",
    "r3:& \\;\\; Y \\rightarrow \\varnothing \n",
    "\\end{align} $$\n",
    "\n",
    "Assume that all reactions follow irreversible mass-action kinetics with parameters $k_1 = 1.5$, $k_2 = 0.8 $ and $k_3 = 0.9$, each equal to 3. Initial conditions: $X(0)= Y(0) = 1$\n",
    "\n",
    "* use tellurium to plot the model structure\n",
    "* simulate the model for 100 seconds and plot the results"
   ]
  },
  {
   "cell_type": "code",
   "execution_count": null,
   "metadata": {
    "collapsed": false
   },
   "outputs": [],
   "source": []
  },
  {
   "cell_type": "markdown",
   "metadata": {},
   "source": [
    "# fit model to experimental data\n",
    "\n",
    "* somebody gave you measurements of X and Y from a recently conducted experiment. Load the data from `lotka_data.csv` (use pandas)\n",
    "* write a function that computes the euclidean distance between a model simulation (result) and the given data. \n",
    "* write a function that accepts values for the parameters $k1$, $k2$ and $k3$ computes a model simulation with these parameters\n",
    "* write a function that takes a vector of parameter values `[k1, k2, k3]`, simulates the model and returns the euclidean distance between model simulation and data\n",
    "* use the differential evolution mehtod from the scipy.optimize library to identify the parameters `k1, k2, k3` based the experimental data. The differential evolution method is a global stochastic optimization technique, which requires upper and lower bounds for all parameters. Use `[0, 5]` as a bound for all parameters.\n",
    "* what are the parameters that have been identified? Simulate the model and plot the result and the data"
   ]
  },
  {
   "cell_type": "code",
   "execution_count": null,
   "metadata": {
    "collapsed": false
   },
   "outputs": [],
   "source": []
  },
  {
   "cell_type": "markdown",
   "metadata": {},
   "source": [
    "# Steady state computation\n",
    "\n",
    "* Load the threonine_boundary.xml model, which is a modified version of the Chassagnole model from 2001 describing the Threonine synthesis, taken from the [biomodels database](http://www.ebi.ac.uk/biomodels-main/BIOMD0000000066). In this version of the model the concentrations of aspartate and threonine as well as of the cosubstrates ATP,\n",
    "ADP, NADPH, NADP and H$_2$O have been fixed, such that the model has a steady state. A detailed descriptiof the model, as well as a schematic overview can be found in the [original publication](http://www.ncbi.nlm.nih.gov/pmc/articles/PMC1221852/pdf/11368768.pdf) of Chassagnole.\n",
    "\n",
    "* simulate the model for 500 seconds and plot the results\n",
    "\n",
    "* vary the concentration of Aspartate (asp) in the model between 0 and 5 and plot the result of a time course simulation\n",
    "\n",
    "* do the same for the ATP concentration\n",
    "\n",
    "* now we want to look at the steady state concentration of an intermediate (homoserine, hs) depending on the Aspartate and ADP concentrations. We will assume that the model is in steady state after 500 seconds. Write a function that returns the homoserine concentration at time-point 500, taking the Aspartate and ADP concentrations as an input.\n",
    "\n",
    "* pass your function to the predefined plotting function `plot_surface` to create a 3D plot of the homoserine steaty state concentration\n",
    "\n"
   ]
  },
  {
   "cell_type": "code",
   "execution_count": null,
   "metadata": {
    "collapsed": false
   },
   "outputs": [],
   "source": []
  },
  {
   "cell_type": "code",
   "execution_count": 19,
   "metadata": {
    "collapsed": false
   },
   "outputs": [],
   "source": [
    "from mpl_toolkits.mplot3d import Axes3D\n",
    "from matplotlib import cm\n",
    "\n",
    "def plot_surface( function, \n",
    "                  x_values=np.arange(0, 10, 0.5), \n",
    "                  y_values=np.arange(0, 5, 0.5),\n",
    "                  x_label = 'Aspartate',\n",
    "                  y_label = 'ATP',\n",
    "                  z_label = 'Homoserine',):\n",
    "    \"\"\"\n",
    "    creates a 3D surface plot of an input function\n",
    "    function -> a function f(x,y) -> z\n",
    "    x_values -> array of x values \n",
    "    y_values -> array of y values \n",
    "    *_label -> label for *-axis\n",
    "    \"\"\"\n",
    "    X,Y = np.meshgrid(x_values,y_values)\n",
    "    Z = np.zeros_like(X)\n",
    "    for i in range(len(y_values)):\n",
    "        for j in range(len(x_values)):\n",
    "            Z[i,j] = function(X[i,j], Y[i,j])        \n",
    "    fig = plt.figure()\n",
    "    ax = fig.add_subplot(111, projection='3d')\n",
    "    ax.plot_surface(X, Y, Z )\n",
    "    plt.xlabel(x_label)\n",
    "    plt.ylabel(y_label)    "
   ]
  }
 ],
 "metadata": {
  "kernelspec": {
   "display_name": "Python 2",
   "language": "python",
   "name": "python2"
  },
  "language_info": {
   "codemirror_mode": {
    "name": "ipython",
    "version": 2
   },
   "file_extension": ".py",
   "mimetype": "text/x-python",
   "name": "python",
   "nbconvert_exporter": "python",
   "pygments_lexer": "ipython2",
   "version": "2.7.11+"
  }
 },
 "nbformat": 4,
 "nbformat_minor": 0
}

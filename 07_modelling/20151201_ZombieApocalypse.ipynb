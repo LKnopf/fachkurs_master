{
 "cells": [
  {
   "cell_type": "markdown",
   "metadata": {},
   "source": [
    "Ordinary Differential Equations - ODE\n",
    "====================\n",
    "or 'How to Model the Zombie Apocalypse'\n",
    "---------------------------------------------\n",
    "Jens Hahn - 01/12/2015\n",
    "\n",
    "Content taken from:      \n",
    "**Scipy Docs** at http://scipy-cookbook.readthedocs.org/items/Zombie_Apocalypse_ODEINT.html      \n",
    "Munz *et al.* (2009): http://mysite.science.uottawa.ca/rsmith43/Zombies.pdf"
   ]
  },
  {
   "cell_type": "markdown",
   "metadata": {},
   "source": [
    "Introduction\n",
    "=======\n",
    "What is an ODE\n",
    "----------------\n",
    "Differential equations can be used to describe the time-dependent behaviour of a variable.      \n",
    "$$\\frac{\\text{d}\\vec{x}}{\\text{d}t} = \\vec{f}(\\vec{x}, t)$$   \n",
    "In our case the variable stands for the number of humans in a infected (zombies) or not infected population.\n",
    "Of course they can also be used to describe the change of concentrations in a cell or other continuous or quasi-continuous quantity.     \n",
    "\n",
    "In general, a first order ODE has two parts, the increasing (birth, formation,...) and the decreasing (death, degradation, ...) part:\n",
    "\n",
    "$$\\frac{\\text{d}\\vec{x}}{\\text{d}t} = \\sum_{}\\text{Rates}_{\\text{production}} - \\sum_{}\\text{Rates}_{\\text{loss}}$$ \n",
    "\n",
    "\n",
    "You probably already know ways to solve a differential equation algebraically by 'separation of variables' (Trennung der Variablen) in the homogeneous case or 'variation of parameters' (Variation der Konstanten) in the inhomogeneous case. Here, we want to discuss the use of numerical methods to solve your ODE system."
   ]
  },
  {
   "cell_type": "markdown",
   "metadata": {},
   "source": [
    "Solve the model\n",
    "==========\n",
    "The zombie apokalypse model\n",
    "-------------------------\n",
    "Let's have a look at our equations:\n",
    "\n",
    "Number of susceptible victims $S$:\n",
    "$$\\frac{\\text{d}S}{\\text{d}t} = \\text{P} - \\text{B}\\times S \\times Z - \\text{d}\\times S$$\n",
    "\n",
    "Number of zombies $Z$:\n",
    "$$\\frac{\\text{d}Z}{\\text{d}t} = \\text{B}\\times S \\times Z + \\text{G}\\times R - \\text{A}\\times S \\times Z$$\n",
    "\n",
    "Number of people \"killed\" $R$:\n",
    "$$\\frac{\\text{d}R}{\\text{d}t} = \\text{d}\\times S + \\text{A}\\times S \\times Z - \\text{G}\\times R$$\n",
    "\n",
    "Parameters:     \n",
    "P: the population birth rate      \n",
    "d: the chance of a natural death      \n",
    "B: the chance the “zombie disease” is transmitted (an alive person becomes a zombie)      \n",
    "G: the chance a dead person is resurrected into a zombie      \n",
    "A: the chance a zombie is totally destroyed by a human      "
   ]
  },
  {
   "cell_type": "markdown",
   "metadata": {},
   "source": [
    "Let's start\n",
    "------------\n",
    "Before we start the simulation of our model, we have to define our system.     \n",
    "We start with our static information:\n",
    "1. Initial conditions for our variables\n",
    "2. Values of the paramters\n",
    "3. Simulation time \n",
    "4. Number of time points at which we want to have the values for our variables (the time grid). *Use numpy!!*"
   ]
  },
  {
   "cell_type": "code",
   "execution_count": 4,
   "metadata": {
    "collapsed": true
   },
   "outputs": [],
   "source": [
    "import numpy as np\n",
    "# 1. initial conditions\n",
    "S0 = 500.                   # initial population\n",
    "Z0 = 0                      # initial zombie population\n",
    "R0 = 0                      # initial death population\n",
    "y0 = [S0, Z0, R0]           # initial condition vector\n",
    "\n",
    "# 2. parameter values\n",
    "P = 0       # birth rate\n",
    "d = 0.0001  # 'natural' death percent (per day)\n",
    "B = 0.0095  # transmission percent  (per day)\n",
    "G = 0.0001  # resurect percent (per day)\n",
    "A = 0.001  # destroy percent  (per day)\n",
    "\n",
    "# 3. simulation time\n",
    "start = 0.0  # days\n",
    "end = 15.     # days\n",
    "number_time_points = 1000.\n",
    "t  = np.linspace(start, end, number_time_points)  # time grid, 1000 steps or data points"
   ]
  },
  {
   "cell_type": "markdown",
   "metadata": {},
   "source": [
    "In the second step, we write a small function **f**, that receives a list of the current values of our variables **x** and the current time **t**. The function has to evaluate the equations of our system or $\\frac{\\text{d}\\vec{x}}{\\text{d}t}$, respectively. Afterwards, it returns the values of the equations as another list.     \n",
    "**Important**   \n",
    "*Since this function **f** is used by the solver, we are not allowed to change the input (arguments) or output (return value) of this function.*"
   ]
  },
  {
   "cell_type": "code",
   "execution_count": 5,
   "metadata": {
    "collapsed": true
   },
   "outputs": [],
   "source": [
    "# function 'f' to solve the system dy/dt = f(y, t)\n",
    "def f(y, t):\n",
    "    Si = y[0]\n",
    "    Zi = y[1]\n",
    "    Ri = y[2]\n",
    "    # the model equations (see Munz et al. 2009)\n",
    "    f0 = P - B*Si*Zi - d*Si\n",
    "    f1 = B*Si*Zi + G*Ri - A*Si*Zi\n",
    "    f2 = d*Si + A*Si*Zi - G*Ri\n",
    "    return [f0, f1, f2]"
   ]
  },
  {
   "cell_type": "markdown",
   "metadata": {},
   "source": [
    "Last but not least, we need to import and call our solver. The result will be a matrix with our time courses as columns and the values at the specified time points. Since we have a values for every time point and every species, we can directly plot the results using *matplotlib*. "
   ]
  },
  {
   "cell_type": "code",
   "execution_count": 6,
   "metadata": {
    "collapsed": false
   },
   "outputs": [
    {
     "data": {
      "text/plain": [
       "<matplotlib.legend.Legend at 0x7fcff70f6390>"
      ]
     },
     "execution_count": 6,
     "metadata": {},
     "output_type": "execute_result"
    },
    {
     "data": {
      "image/png": "[encoded data removed]",
      "text/plain": [
       "<matplotlib.figure.Figure at 0x7fcff71b1ba8>"
      ]
     },
     "metadata": {},
     "output_type": "display_data"
    }
   ],
   "source": [
    "# zombie apocalypse modeling\n",
    "import matplotlib.pyplot as plt\n",
    "%matplotlib inline\n",
    "from scipy.integrate import odeint\n",
    "\n",
    "# solve the DEs\n",
    "result = odeint(f, y0, t)\n",
    "S = result[:, 0]\n",
    "Z = result[:, 1]\n",
    "R = result[:, 2]\n",
    "\n",
    "# plot results\n",
    "plt.figure()\n",
    "plt.plot(t, S, label='Humans')\n",
    "plt.plot(t, Z, label='Zombies')\n",
    "plt.plot(t, R, label='Dead Humans')\n",
    "plt.xlabel('Days from outbreak')\n",
    "plt.ylabel('Population')\n",
    "plt.title('Zombie Apocalypse - No Init. Dead Pop.; No New Births.')\n",
    "plt.ylim([0,500])\n",
    "plt.legend(loc=0)"
   ]
  },
  {
   "cell_type": "markdown",
   "metadata": {},
   "source": [
    "ODEs to describe biochemical reactions\n",
    "------------------------------------------\n",
    "When you want to simulate biochemical reactions it is in principle not different to the things you've learned right now, but there is one important thing to consider. People have thought a lot about the best ways to describe certain kinds of chemical reactions and their kinetics. Let's have a look at one of the 'rates' from above:\n",
    "We wrote the birth rate of humans as $$v_{\\text{birth}} = \\text{P}$$\n",
    "that means, there is a constant addition of human beeings in our system, or a constant 'influx'."
   ]
  },
  {
   "cell_type": "markdown",
   "metadata": {},
   "source": [
    "Then, we have the 'natural' death of humans $$v_{\\text{death}} = \\text{d}\\times S$$  \n",
    "The extent of the rate is dependent on the current number of humans S, makes sense, right? The more human beeings there are, the more can die of 'natural' cause.    \n",
    "Finally, there is the killing of zombies, this rate is not only dependent on the number of zombies Z (the more there are, the more can be killed), but also on the number of humans S, the more there are, the more can kill zombies:\n",
    "$$v_{\\text{kill}} = \\text{A}\\times S \\times Z$$\n",
    "\n",
    "This kind of 'rate law' we call **mass action**, there is always a parameter multiplied by one or more variables.     "
   ]
  },
  {
   "cell_type": "markdown",
   "metadata": {},
   "source": [
    "The other very important kinetic rate law is the **Michaelis-Menten** kinetic, you've probably heard about it. This rate law was made for describing an enzymatic reactions, when the rate itself cannot reach unlimited extent. The velocity or flux is limited by the maximal rate of the enzyme:\n",
    "$$v_{\\text{MM}} = \\text{V}_\\text{max}\\times \\frac{S}{\\text{K}_{\\text{m}} + S}$$"
   ]
  },
  {
   "cell_type": "markdown",
   "metadata": {},
   "source": [
    "Assignments\n",
    "======\n",
    "1. Discussion\n",
    "---------------\n",
    "* What are the characteristics of an ODE system, can you find possible applications?\n",
    "* When you look at our zombie example, what shortcomings can you find?"
   ]
  },
  {
   "cell_type": "markdown",
   "metadata": {},
   "source": [
    "2. Simulate the Lotka-Volterra model (predator - prey model)\n",
    "----------------------\n",
    "*Equations:* $$\\frac{\\text{d}R}{\\text{d}t} = \\alpha\\times R - \\beta\\times R \\times F$$\n",
    "$$\\frac{\\text{d}F}{\\text{d}t} = -\\gamma\\times F + \\delta\\times\\beta\\times R \\times F$$\n",
    "\n",
    "*Parameters:*     \n",
    "$\\alpha$: natural growing rate of rabbits, when there's no fox around     \n",
    "$\\beta$: natural dying rate of rabbits, due to predation     \n",
    "$\\gamma$: natural dying rate of fox, when there's no rabbit     \n",
    "$\\delta$: factor describing how many caught rabbits let create a new fox  \n",
    "\n",
    "------------------------------------------------------------------------------------------\n",
    "\n",
    "**a)** Find a reasonable parameter set     \n",
    "**b)** Plot the time courses using *matplotlib*     \n",
    "**c)** Plot the phase plot (What is a phase plot?)     "
   ]
  },
  {
   "cell_type": "markdown",
   "metadata": {},
   "source": [
    "3. Simulate the chemical reaction system below\n",
    "--------------------------------\n",
    "a) Use Michaelis-Menten kinetics to simulate this short reaction chain:\n",
    "$$\\text{A} \\longrightarrow \\text{B} \\longrightarrow \\text{C}$$\n",
    "* Find a reasonable parameter set\n",
    "* Plot the time courses\n",
    "b) Use *mass action* kinetics as rate law for the reactions below.\n",
    "<img src=\"reacsys.png\">\n",
    "* Find a reasonable parameter set\n",
    "* Plot the time courses"
   ]
  },
  {
   "cell_type": "markdown",
   "metadata": {},
   "source": [
    "Literature:\n",
    "=======\n",
    "1. L. Grüne & O. Junge - **Gewöhnliche Differentialgleichungen** - Vieweg+Teubner - 2009\n",
    "2. E. Hairer *et al.* - **Solving Ordinary Differential Equations I** - Springer - 2008\n",
    "3. E. Klipp *et al.* - **Systems Biology**: A Textbook - Wiley-Blackwell - 2009\n",
    "4. B. Ingalls - **Mathematical Modeling in Systems Biology**: An Introduction - MIT Press - 2013\n",
    "4. M. Covert - **Fundamentals of Systems Biology** - CRC Press - 2015\n",
    "6. H. Sauro - **Systems Biology**: Introduction to Pathway Modeling - Ambrosius Publishing - 2014\n",
    "\n"
   ]
  }
 ],
 "metadata": {
  "kernelspec": {
   "display_name": "Python 3",
   "language": "python",
   "name": "python3"
  },
  "language_info": {
   "codemirror_mode": {
    "name": "ipython",
    "version": 3
   },
   "file_extension": ".py",
   "mimetype": "text/x-python",
   "name": "python",
   "nbconvert_exporter": "python",
   "pygments_lexer": "ipython3",
   "version": "3.4.3"
  }
 },
 "nbformat": 4,
 "nbformat_minor": 0
}

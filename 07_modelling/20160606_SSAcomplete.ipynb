{
 "cells": [
  {
   "cell_type": "markdown",
   "metadata": {},
   "source": [
    "## Sochastic simulation algorithm (SSA)\n",
    "Jens Hahn  -  06/06/2016\n"
   ]
  },
  {
   "cell_type": "markdown",
   "metadata": {},
   "source": [
    "Last time we have talked about ODE modelling, which is a **deterministic** and **continuous** way of modelling. This time, we'll talk about a completely different approach, a **stochastic** and **discrete** simulation. Firstly, this means we get a slightly different result, everytime we run the simulation. Secondly, this means we talk about single molecules and not a vague float value that needs to be interpreted to a molecule count. "
   ]
  },
  {
   "cell_type": "markdown",
   "metadata": {},
   "source": [
    "### Gillespie's algorithm\n",
    "The idea of Gillespie's algorithm is to take into account every reaction event, based on molecule collisions and reaction radii around the molecules. Based on all possible combinations of collisions \n",
    "\n",
    "We start with a specific parameter, called $c$, the average probability that a reactant molecule will react per unit time. The next parameter we need is called $h$, the number of distinct molecular reactant combinations for a given reaction at time t. Finally, we need the distinct time interval we're focus on, we call it $\\delta t$."
   ]
  },
  {
   "cell_type": "code",
   "execution_count": 4,
   "metadata": {
    "collapsed": false
   },
   "outputs": [],
   "source": [
    "import math\n",
    "import numpy as np\n",
    "a=1\n",
    "r=1\n",
    "t = -(1/a)*math.log(r)"
   ]
  },
  {
   "cell_type": "code",
   "execution_count": 14,
   "metadata": {
    "collapsed": false
   },
   "outputs": [
    {
     "data": {
      "text/plain": [
       "0.9586454093903716"
      ]
     },
     "execution_count": 14,
     "metadata": {},
     "output_type": "execute_result"
    }
   ],
   "source": [
    "np.random.uniform()"
   ]
  },
  {
   "cell_type": "code",
   "execution_count": null,
   "metadata": {
    "collapsed": true
   },
   "outputs": [],
   "source": [
    "r = uniformRandomNumber()\n",
    "Reactions index from 1 to numberOfReactions\n",
    "Propensities index form 1 to numberOfReactions\n",
    "\n",
    "if r <= n(1) then\n",
    "    Reaction[1] fires\n",
    "else\n",
    "    begin\n",
    "    for i = 2 to numberOfReactions do\n",
    "        if (r > n[i-1]) and (r <= n[i]) then\n",
    "            begin \n",
    "            Reaction[i] fires\n",
    "            exit\n",
    "            end\n",
    "    end"
   ]
  },
  {
   "cell_type": "code",
   "execution_count": null,
   "metadata": {
    "collapsed": true
   },
   "outputs": [],
   "source": [
    "accumulate = 0\n",
    "i = 0\n",
    "scaledRandomNumber = uniformRandomNumber() * R\n",
    "while accumulate < scaledRandomNumber do\n",
    "    begin\n",
    "    i = i + 1\n",
    "    accumulate = accumulate + n[i]\n",
    "    end;\n",
    "Fire the ith reaction"
   ]
  }
 ],
 "metadata": {
  "kernelspec": {
   "display_name": "Python 3",
   "language": "python",
   "name": "python3"
  },
  "language_info": {
   "codemirror_mode": {
    "name": "ipython",
    "version": 3
   },
   "file_extension": ".py",
   "mimetype": "text/x-python",
   "name": "python",
   "nbconvert_exporter": "python",
   "pygments_lexer": "ipython3",
   "version": "3.4.3"
  }
 },
 "nbformat": 4,
 "nbformat_minor": 0
}

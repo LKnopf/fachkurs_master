{
 "cells": [
  {
   "cell_type": "markdown",
   "metadata": {},
   "source": [
    "## Sochastic simulation algorithm (SSA)\n",
    "Jens Hahn  -  06/06/2016\n"
   ]
  },
  {
   "cell_type": "markdown",
   "metadata": {},
   "source": [
    "Last time we have talked about ODE modelling, which is a **deterministic** and **continuous** way of modelling. This time, we'll talk about a completely different approach, a **stochastic** and **discrete** simulation. Firstly, this means we get a slightly different result, everytime we run the simulation. Secondly, this means we talk about single molecules and not a vague float value that needs to be interpreted to a molecule count. "
   ]
  },
  {
   "cell_type": "markdown",
   "metadata": {},
   "source": [
    "### Gillespie's algorithm\n",
    "#### Idea behind\n",
    "The idea of Gillespie's algorithm is to take into account every reaction event, based on molecule collisions and reaction radii around the molecules. It then asks two questions:\n",
    "\n",
    "1. Considering all probabilities, **when** does the next reaction event takes place?\n",
    "2. **Which** reaction takes actually place?\n",
    "\n",
    "#### Let's get started\n",
    "We start with a specific parameter, called $c$, the average probability that a reactant molecule will react per unit time. The next parameter we need is called $h$, the number of distinct molecular reactant combinations for a given reaction at time t. Finally, we need the distinct time interval we're focus on, we call it $\\delta t$.\n",
    "\n",
    "To answer the questions **1.** and **2.** we need 2 random numbers **r** from a uniform distribution. The first **r1** one we use to calculate a number from the exponential distribution: \n",
    "$$ \\text{time} = - \\frac{1}{a}\\times\\ln(r1) $$\n",
    "The second, **r2** we use to get the reaction. We normalise the probabilites to make the sum equal 1. Then we use the random number to get the reaction that will take place next. "
   ]
  },
  {
   "cell_type": "code",
   "execution_count": 119,
   "metadata": {
    "collapsed": false
   },
   "outputs": [],
   "source": [
    "import math\n",
    "import numpy as np\n",
    "import matplotlib.pyplot as pyp\n",
    "%matplotlib inline"
   ]
  },
  {
   "cell_type": "code",
   "execution_count": 120,
   "metadata": {
    "collapsed": false
   },
   "outputs": [],
   "source": [
    "# S -> P*S - B*S*Z - d*S\n",
    "S = 500\n",
    "# Z -> B*S*Z + G*R - A*S*Z\n",
    "Z = 0\n",
    "# R -> d*S - G*R\n",
    "R = 0\n",
    "\n",
    "P = 0.0001  # birth rate\n",
    "d = 0.01  # 'natural' death percent (per day)\n",
    "B = 0.0095  # transmission percent  (per day)\n",
    "G = 0.001  # resurect percent (per day)\n",
    "A = 0.005  # destroy percent  (per day)\n",
    "\n",
    "t = 0\n",
    "tend = 20\n",
    "\n",
    "timecourse = [0]\n",
    "S_tc = [S]\n",
    "Z_tc = [Z]\n",
    "R_tc = [R]\n",
    "\n",
    "while t < tend:    \n",
    "    # calculate h_i\n",
    "    h_birth = (S*(S-1)/2)\n",
    "    h_death = S\n",
    "    h_transmission = S*Z\n",
    "    h_resurrect = R\n",
    "    h_destroy = S*Z\n",
    "    \n",
    "    R_sum = sum([h_birth*P, h_death*d, h_transmission*B, h_resurrect*G, h_destroy*A])\n",
    "    #print(R_sum)\n",
    "    a_birth = h_birth*P/R_sum\n",
    "    #print('a_birth: ',a_birth)\n",
    "    a_death = h_death*d/R_sum\n",
    "    #print('a_death: ', a_death)\n",
    "    a_transmission = h_transmission*B/R_sum\n",
    "    #print('a_transmission: ', a_transmission)\n",
    "    a_resurrect = h_resurrect*G/R_sum\n",
    "    #print('a_resurrect: ', a_resurrect)\n",
    "    a_destroy = h_destroy*A/R_sum\n",
    "    #print('a_destroy: ', a_destroy)\n",
    "    \n",
    "    a = [a_birth, a_death, a_transmission, a_resurrect, a_destroy]\n",
    "    a_sum = sum(a)\n",
    "    \n",
    "    r1 = np.random.uniform()\n",
    "    t += - (1./R_sum)*math.log(r1)\n",
    "    timecourse.append(t)\n",
    "    \n",
    "    r2 = np.random.uniform()   \n",
    "        \n",
    "    if r2 > 0 and r2 < sum(a[:1]):  # birth\n",
    "        S += 1\n",
    "        #print('birth')\n",
    "    elif r2 > sum(a[:1]) and r2 < sum(a[:2]):  # death\n",
    "        S -= 1\n",
    "        R += 1\n",
    "        #print('death')\n",
    "    elif r2 > sum(a[:2]) and r2 < sum(a[:3]):  # transmission\n",
    "        S -= 1\n",
    "        Z += 1\n",
    "        #print('transmission')\n",
    "    elif r2 > sum(a[:3]) and r2 < sum(a[:4]):  # resurrect\n",
    "        R -= 1\n",
    "        Z += 1\n",
    "        #print('resurrect')\n",
    "    else:\n",
    "        Z -= 1\n",
    "        R += 1\n",
    "        #print('destroy')\n",
    "        \n",
    "    S_tc.append(S)\n",
    "    Z_tc.append(Z)\n",
    "    R_tc.append(R)"
   ]
  },
  {
   "cell_type": "code",
   "execution_count": 121,
   "metadata": {
    "collapsed": false
   },
   "outputs": [
    {
     "name": "stdout",
     "output_type": "stream",
     "text": [
      "Susceptible people:  724\n",
      "Zombies:  0\n",
      "Dead people:  118\n"
     ]
    },
    {
     "data": {
      "image/png": "[encoded data removed]",
      "text/plain": [
       "<matplotlib.figure.Figure at 0x131c21c4978>"
      ]
     },
     "metadata": {},
     "output_type": "display_data"
    }
   ],
   "source": [
    "pyp.plot(timecourse, S_tc)\n",
    "pyp.plot(timecourse, Z_tc)\n",
    "pyp.plot(timecourse, R_tc)\n",
    "print('Susceptible people: ', S)\n",
    "print('Zombies: ', Z)\n",
    "print('Dead people: ', R)"
   ]
  },
  {
   "cell_type": "markdown",
   "metadata": {},
   "source": [
    "## Deterministic, continuous solution"
   ]
  },
  {
   "cell_type": "code",
   "execution_count": 122,
   "metadata": {
    "collapsed": false
   },
   "outputs": [
    {
     "data": {
      "text/plain": [
       "[<matplotlib.lines.Line2D at 0x131c32e62b0>,\n",
       " <matplotlib.lines.Line2D at 0x131c32e6f60>]"
      ]
     },
     "execution_count": 122,
     "metadata": {},
     "output_type": "execute_result"
    },
    {
     "data": {
      "image/png": "[encoded data removed]",
      "text/plain": [
       "<matplotlib.figure.Figure at 0x131c334a908>"
      ]
     },
     "metadata": {},
     "output_type": "display_data"
    }
   ],
   "source": [
    "import scipy.integrate\n",
    "import numpy as np\n",
    "import math\n",
    "from matplotlib import pyplot as plt\n",
    "plt.style.use('ggplot')\n",
    "%matplotlib inline\n",
    "\n",
    "k1 = 0.1\n",
    "k2 = 0.02\n",
    "k3 = 0.4\n",
    "k4 = 0.02\n",
    "\n",
    "def dSdt( S, t):\n",
    "    X, Y = S\n",
    "    dxdt = k1*X - k2*X*Y\n",
    "    dydt = k4*X*Y - k3*Y\n",
    "    return [dxdt, dydt]\n",
    "\n",
    "time = np.arange(0,300,1)\n",
    "S0 = np.array([10., 10.] )\n",
    "\n",
    "result = scipy.integrate.odeint( dSdt, S0, time  )\n",
    "plt.plot( time, result )"
   ]
  },
  {
   "cell_type": "markdown",
   "metadata": {},
   "source": [
    "## Stochastic, discrete solution"
   ]
  },
  {
   "cell_type": "code",
   "execution_count": null,
   "metadata": {
    "collapsed": false
   },
   "outputs": [],
   "source": [
    "na = 6.022e23\n",
    "# species\n",
    "X = 100\n",
    "Y = 100\n",
    "# parameters\n",
    "k1 = 0.1   # birth X\n",
    "k2 = 0.02  # eaten X\n",
    "k3 = 0.4   # death Y\n",
    "k4 = 0.02  # reproduce Y\n",
    "# time\n",
    "t = 0\n",
    "t_end = 50\n",
    "# timecourses\n",
    "timecourse = [0]\n",
    "X_tc = [X]\n",
    "Y_tc = [Y]\n",
    "# loop\n",
    "while t < t_end:\n",
    "    h_k1 = X*(X-1)/2\n",
    "    h_k2 = X*Y\n",
    "    h_k3 = Y\n",
    "    h_k4 = X*Y\n",
    "    \n",
    "    R_sum = sum([h_k1*k1, h_k2*k2, h_k3*k3, h_k4*k4])\n",
    "\n",
    "    a_k1 = h_k1*k1/R_sum\n",
    "    a_k2 = h_k2*k2/R_sum\n",
    "    a_k3 = h_k3*k3/R_sum\n",
    "    a_k4 = h_k4*k4/R_sum\n",
    "    a = [a_k1, a_k2, a_k3, a_k4]\n",
    "    a_sum = sum(a)\n",
    "    \n",
    "    r1 = np.random.uniform()\n",
    "    t += - (1./R_sum)*math.log(r1)\n",
    "    timecourse.append(t)\n",
    "    \n",
    "    r2 = np.random.uniform() \n",
    "\n",
    "    if r2 < sum(a[:1]):  # k1\n",
    "        X += 1\n",
    "        #print('k1')\n",
    "    elif r2 > sum(a[:1]) and r2 < sum(a[:2]):  # k2\n",
    "        X -= 1\n",
    "        #print('k2')\n",
    "    elif r2 > sum(a[:2]) and r2 < sum(a[:3]):  # k3\n",
    "        Y -= 1\n",
    "        #print('k3')\n",
    "    else:  # k4\n",
    "        Y += 1\n",
    "        #print('k4')\n",
    "        \n",
    "    X_tc.append(X)\n",
    "    Y_tc.append(Y)"
   ]
  },
  {
   "cell_type": "code",
   "execution_count": null,
   "metadata": {
    "collapsed": false
   },
   "outputs": [],
   "source": [
    "plt.plot( timecourse, X_tc )\n",
    "plt.plot( timecourse, Y_tc )\n",
    "print(Y_tc[-10:])\n",
    "print(X_tc[-10:])"
   ]
  },
  {
   "cell_type": "code",
   "execution_count": 14,
   "metadata": {
    "collapsed": false
   },
   "outputs": [],
   "source": [
    "import math\n",
    "r1 = [(i+1)/10 for i in range(10)]\n",
    "R_sum = 30\n",
    "t = [(-(1./R_sum)*math.log(r)) for r in r1]"
   ]
  },
  {
   "cell_type": "code",
   "execution_count": 15,
   "metadata": {
    "collapsed": false
   },
   "outputs": [
    {
     "data": {
      "image/png": "[encoded data removed]",
      "text/plain": [
       "<matplotlib.figure.Figure at 0x275a348a518>"
      ]
     },
     "metadata": {},
     "output_type": "display_data"
    }
   ],
   "source": [
    "import matplotlib.pyplot as pyp\n",
    "%matplotlib inline\n",
    "pyp.plot(r1, t)\n",
    "pyp.show()"
   ]
  },
  {
   "cell_type": "code",
   "execution_count": null,
   "metadata": {
    "collapsed": true
   },
   "outputs": [],
   "source": []
  }
 ],
 "metadata": {
  "kernelspec": {
   "display_name": "Python 3",
   "language": "python",
   "name": "python3"
  },
  "language_info": {
   "codemirror_mode": {
    "name": "ipython",
    "version": 3
   },
   "file_extension": ".py",
   "mimetype": "text/x-python",
   "name": "python",
   "nbconvert_exporter": "python",
   "pygments_lexer": "ipython3",
   "version": "3.5.1"
  }
 },
 "nbformat": 4,
 "nbformat_minor": 0
}

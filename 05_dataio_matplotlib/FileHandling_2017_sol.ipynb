{
 "cells": [
  {
   "cell_type": "markdown",
   "metadata": {},
   "source": [
    "# File handling"
   ]
  },
  {
   "cell_type": "markdown",
   "metadata": {},
   "source": [
    "### Input/Output"
   ]
  },
  {
   "cell_type": "code",
   "execution_count": null,
   "metadata": {
    "collapsed": false
   },
   "outputs": [],
   "source": [
    "# input function reads from standard in and returns a string\n",
    "answer = input(\"enter your name:\")\n",
    "print('Hello ' + answer + '!')"
   ]
  },
  {
   "cell_type": "markdown",
   "metadata": {},
   "source": [
    "### Simple file operations"
   ]
  },
  {
   "cell_type": "markdown",
   "metadata": {},
   "source": [
    "##### writing to files"
   ]
  },
  {
   "cell_type": "code",
   "execution_count": null,
   "metadata": {
    "collapsed": false
   },
   "outputs": [],
   "source": [
    "# files can be opened using the open function, which creates a file object\n",
    "f = open( 'new_file.txt', 'w' ) # attention overwrites existing file\n",
    "# important functions: read, write, readlines, writelines\n",
    "# dir(f) \n",
    "f.write(\"Hallo Welt!\")\n",
    "f.close()"
   ]
  },
  {
   "cell_type": "code",
   "execution_count": null,
   "metadata": {
    "collapsed": false
   },
   "outputs": [],
   "source": [
    "# writelines\n",
    "lines  = []\n",
    "for i in range(12):\n",
    "    lines.append(\"Number: \" + str(i) + '\\n')\n",
    "print(lines)\n",
    "\n",
    "\n",
    "f = open( 'new_file.txt', 'a' )  # open file and append to it\n",
    "f.writelines(lines)\n",
    "f.close()"
   ]
  },
  {
   "cell_type": "markdown",
   "metadata": {},
   "source": [
    "##### reading from files"
   ]
  },
  {
   "cell_type": "code",
   "execution_count": null,
   "metadata": {
    "collapsed": false
   },
   "outputs": [],
   "source": [
    "# usage of with to open files is recommended in python\n",
    "with open('new_file.txt', 'r') as f: # open file for reading\n",
    "    content = f.read() # get the whole content of a file into a string\n",
    "\n",
    "print(content)\n"
   ]
  },
  {
   "cell_type": "code",
   "execution_count": null,
   "metadata": {
    "collapsed": false
   },
   "outputs": [],
   "source": [
    "with open('new_file.txt', 'r') as f: # open file for reading\n",
    "    lines = f.readlines()\n",
    "    \n",
    "print(lines)\n"
   ]
  },
  {
   "cell_type": "markdown",
   "metadata": {},
   "source": [
    "### Organizing files in folders"
   ]
  },
  {
   "cell_type": "code",
   "execution_count": null,
   "metadata": {
    "collapsed": false
   },
   "outputs": [],
   "source": [
    "# create a folder for the data files\n",
    "import os\n",
    "\n",
    "# get current working directory\n",
    "work_path = os.getcwd()\n",
    "print(work_path)"
   ]
  },
  {
   "cell_type": "code",
   "execution_count": null,
   "metadata": {
    "collapsed": false
   },
   "outputs": [],
   "source": [
    "# define path for data files\n",
    "data_path = os.path.join(work_path, 'data/')\n",
    "\n",
    "# check if folder exists already\n",
    "if not os.path.exists(data_path): \n",
    "    os.mkdir(data_path) # create the folder\n",
    "    \n",
    "# Save a file to that folder\n",
    "f = open( data_path + 'new_file.txt', 'w' )\n",
    "f.write(\"Hallo Welt! (In a folder!!)\")\n",
    "f.close()\n",
    "\n",
    "    "
   ]
  },
  {
   "cell_type": "markdown",
   "metadata": {},
   "source": [
    "### Parsing data \n"
   ]
  },
  {
   "cell_type": "markdown",
   "metadata": {},
   "source": [
    "#### Example 2: fasta files"
   ]
  },
  {
   "cell_type": "code",
   "execution_count": null,
   "metadata": {
    "collapsed": false,
    "scrolled": true
   },
   "outputs": [],
   "source": [
    "with open('example.fasta', 'r') as f:\n",
    "    lines = f.read()\n",
    "#print(lines)\n",
    "geneinfo ={}\n",
    "\n",
    "entries = lines[1:].split('>') #fasta header line starts with >\n",
    "\n",
    "for entry in entries:\n",
    "    info, seq = entry.split('\\n',1) # separate info from sequence\n",
    "    # print(info)\n",
    "    # print(seq)\n",
    "    name, g, I, l = info.split(' ') # split info in subparts\n",
    "    # print(g)\n",
    "    # print(I)\n",
    "    # print(l)\n",
    "    # print(name)\n",
    "    geneinfo[name] = {'gene':g, \n",
    "                      'ID':I,\n",
    "                      'location':l,\n",
    "                      'sequence':seq.replace('\\n','') } # arrange all in dictionary\n",
    "\n",
    "    \n",
    "print(list(geneinfo.values())[0])\n",
    "\n",
    "\n"
   ]
  },
  {
   "cell_type": "markdown",
   "metadata": {},
   "source": [
    "#### Example 2: Array like data"
   ]
  },
  {
   "cell_type": "code",
   "execution_count": null,
   "metadata": {
    "collapsed": false
   },
   "outputs": [],
   "source": [
    "with open('data.txt', 'r') as f:\n",
    "    lines = f.readlines()\n",
    "# print(lines)\n",
    "\n",
    "data = {}\n",
    "\n",
    "# iterate over all lines in the file\n",
    "for line in lines:\n",
    "    if line.startswith('#'): # skip comments\n",
    "        continue\n",
    "    left, right = line.split(':') # split splits a string at the occurence of the keyword\n",
    "    data[ left.strip() ] = float(right) # strip removes leading and tailing spaces\n",
    "print(data)"
   ]
  }
 ],
 "metadata": {
  "kernelspec": {
   "display_name": "Python 3",
   "language": "python",
   "name": "python3"
  },
  "language_info": {
   "codemirror_mode": {
    "name": "ipython",
    "version": 3
   },
   "file_extension": ".py",
   "mimetype": "text/x-python",
   "name": "python",
   "nbconvert_exporter": "python",
   "pygments_lexer": "ipython3",
   "version": "3.5.2"
  }
 },
 "nbformat": 4,
 "nbformat_minor": 0
}

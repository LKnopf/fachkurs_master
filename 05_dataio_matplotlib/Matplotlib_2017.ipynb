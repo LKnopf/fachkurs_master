{
 "cells": [
  {
   "cell_type": "markdown",
   "metadata": {},
   "source": [
    "\n",
    "Matplotlib 2016\n",
    "---------------\n",
    "\n",
    "- requires ipython and ipyton-notebook packages\n",
    "- execute: ipython3 notebook\n",
    "- check out this resource for Matplotlib: http://matplotlib.org/gallery.html"
   ]
  },
  {
   "cell_type": "code",
   "execution_count": null,
   "metadata": {
    "collapsed": false
   },
   "outputs": [],
   "source": [
    "%matplotlib inline\n",
    "from matplotlib import pyplot as plt\n",
    "import numpy as np"
   ]
  },
  {
   "cell_type": "markdown",
   "metadata": {},
   "source": [
    "Above commands enable pylab environment => direct access to numpy, scipy and matplotlib. The option 'inline' results in plot outputs to be directly embedded in the Notebook. If this causes problems, remove the option 'inline'."
   ]
  },
  {
   "cell_type": "code",
   "execution_count": null,
   "metadata": {
    "collapsed": false
   },
   "outputs": [],
   "source": [
    "xv=[1,2,3,4]; yv=[5,1,4,0]\n",
    "plt.plot(xv,yv);"
   ]
  },
  {
   "cell_type": "markdown",
   "metadata": {},
   "source": [
    "A simple plotting example. Maybe some variations:"
   ]
  },
  {
   "cell_type": "code",
   "execution_count": null,
   "metadata": {
    "collapsed": false
   },
   "outputs": [],
   "source": [
    "plt.plot(xv,yv,'ro');"
   ]
  },
  {
   "cell_type": "code",
   "execution_count": null,
   "metadata": {
    "collapsed": false
   },
   "outputs": [],
   "source": [
    "myplot=plt.plot(xv,yv,'k--');\n",
    "plt.setp(myplot,linewidth=3.0,marker='+',markersize=30);"
   ]
  },
  {
   "cell_type": "markdown",
   "metadata": {},
   "source": [
    "Alternatively, Matplotlib understands the MATLAB syntax, e.g., for the above command (does not work with 'inline' enabled):"
   ]
  },
  {
   "cell_type": "code",
   "execution_count": null,
   "metadata": {
    "collapsed": false
   },
   "outputs": [],
   "source": [
    "myplot=plt.plot(xv,yv,'k--');\n",
    "plt.setp(myplot,'linewidth',3.0,'marker','+','markersize',30);"
   ]
  },
  {
   "cell_type": "markdown",
   "metadata": {},
   "source": [
    "Available settings for a plot can be found this way (does not work with 'inline' enabled):"
   ]
  },
  {
   "cell_type": "code",
   "execution_count": null,
   "metadata": {
    "collapsed": false
   },
   "outputs": [],
   "source": [
    "plt.setp(myplot)"
   ]
  },
  {
   "cell_type": "markdown",
   "metadata": {},
   "source": [
    "Some more commands for plot formatting:"
   ]
  },
  {
   "cell_type": "code",
   "execution_count": null,
   "metadata": {
    "collapsed": false
   },
   "outputs": [],
   "source": [
    "plt.axis()"
   ]
  },
  {
   "cell_type": "code",
   "execution_count": null,
   "metadata": {
    "collapsed": false
   },
   "outputs": [],
   "source": [
    "plt.axis([0.5,4.5,-0.5,5.5])"
   ]
  },
  {
   "cell_type": "markdown",
   "metadata": {},
   "source": [
    "Let's switch to the Qt backend for plotting"
   ]
  },
  {
   "cell_type": "code",
   "execution_count": null,
   "metadata": {
    "collapsed": false
   },
   "outputs": [],
   "source": [
    "%matplotlib\n",
    "plt.ioff() # deactivates 'interactive' mode"
   ]
  },
  {
   "cell_type": "code",
   "execution_count": null,
   "metadata": {
    "collapsed": false
   },
   "outputs": [],
   "source": [
    "fig = plt.figure()\n",
    "ti=plt.title('Very important data')\n",
    "xl=plt.xlabel('time'); yl=plt.ylabel('value')\n",
    "plt.setp(xl,fontweight='bold');\n",
    "plt.plot(xv,yv,'k--')\n",
    "plt.show()"
   ]
  },
  {
   "cell_type": "markdown",
   "metadata": {},
   "source": [
    "Figures can be saved in a number of output formats such as Postscript:"
   ]
  },
  {
   "cell_type": "code",
   "execution_count": null,
   "metadata": {
    "collapsed": false
   },
   "outputs": [],
   "source": [
    "fig.savefig('foo.ps', dpi=600, format='ps',orientation='landscape')"
   ]
  },
  {
   "cell_type": "markdown",
   "metadata": {},
   "source": [
    "Alternatively, you can also save figures in PNG bitmap and PDF vector formats. (Note that some export formats may not be supported on your platform.)"
   ]
  },
  {
   "cell_type": "code",
   "execution_count": null,
   "metadata": {
    "collapsed": false
   },
   "outputs": [],
   "source": [
    "fig.savefig('foo.png', dpi=600, format='png',orientation='landscape')\n",
    "fig.savefig('foo.pdf', dpi=600, format='pdf',orientation='landscape')"
   ]
  },
  {
   "cell_type": "markdown",
   "metadata": {},
   "source": [
    "You can close an open figure using its handle:"
   ]
  },
  {
   "cell_type": "code",
   "execution_count": null,
   "metadata": {
    "collapsed": false
   },
   "outputs": [],
   "source": [
    "plt.close(fig)"
   ]
  },
  {
   "cell_type": "markdown",
   "metadata": {},
   "source": [
    "Or in MATLAB style, close all open figures:"
   ]
  },
  {
   "cell_type": "code",
   "execution_count": null,
   "metadata": {
    "collapsed": true
   },
   "outputs": [],
   "source": [
    "plt.close('all')"
   ]
  },
  {
   "cell_type": "markdown",
   "metadata": {},
   "source": [
    "Let's do a figure with several subpanels:"
   ]
  },
  {
   "cell_type": "code",
   "execution_count": null,
   "metadata": {
    "collapsed": false
   },
   "outputs": [],
   "source": [
    "fig = plt.figure()\n",
    "plt.subplot(2,1,1)\n",
    "plt.plot(xv,yv,'b-')\n",
    "plt.subplot(2,1,2)\n",
    "plt.plot(yv,xv,'ro')\n",
    "plt.show()"
   ]
  },
  {
   "cell_type": "code",
   "execution_count": null,
   "metadata": {
    "collapsed": false
   },
   "outputs": [],
   "source": [
    "plt.close(fig)"
   ]
  },
  {
   "cell_type": "markdown",
   "metadata": {},
   "source": [
    "Especially for figures with multiple subpanels it may be advisable to increase the figure size somewhat. Do this by using function arguments in the figure() call:"
   ]
  },
  {
   "cell_type": "code",
   "execution_count": null,
   "metadata": {
    "collapsed": false
   },
   "outputs": [],
   "source": [
    "# switch back to inline mode\n",
    "%matplotlib inline\n",
    "\n",
    "fig2=plt.figure(figsize=(10,10))\n",
    "plt.subplot(2,1,1)\n",
    "plt.plot(xv,yv,'b-')\n",
    "plt.subplot(2,1,2)\n",
    "plt.plot(yv,xv,'ro');"
   ]
  },
  {
   "cell_type": "markdown",
   "metadata": {},
   "source": [
    "By using Numpy arrays, Matplotlib can conveniently be used as a function ploting program:"
   ]
  },
  {
   "cell_type": "code",
   "execution_count": null,
   "metadata": {
    "collapsed": false
   },
   "outputs": [],
   "source": [
    "xv=np.arange(-10,10.5,0.5); xv"
   ]
  },
  {
   "cell_type": "code",
   "execution_count": null,
   "metadata": {
    "collapsed": false
   },
   "outputs": [],
   "source": [
    "plt.plot(xv,2*xv**3-5*xv**2+7*xv)\n",
    "plt.plot(xv,2000*np.cos(xv),'r--')\n",
    "plt.text(-10,-2800,'curve A')\n",
    "plt.text(3,1500,'curve B');"
   ]
  },
  {
   "cell_type": "markdown",
   "metadata": {},
   "source": [
    "Certainly, you can do plots with logarithmic scale:"
   ]
  },
  {
   "cell_type": "code",
   "execution_count": null,
   "metadata": {
    "collapsed": false
   },
   "outputs": [],
   "source": [
    "xv_lin=np.arange(-3,3.01,0.02)\n",
    "xv=10.**xv_lin\n",
    "plt.semilogx(xv,np.exp(-xv/0.01)+0.5*np.exp(-xv/10)+0.2*np.exp(-xv/200));"
   ]
  },
  {
   "cell_type": "markdown",
   "metadata": {},
   "source": [
    "Let's add grid lines:"
   ]
  },
  {
   "cell_type": "code",
   "execution_count": null,
   "metadata": {
    "collapsed": false
   },
   "outputs": [],
   "source": [
    "plt.semilogx(xv,np.exp(-xv/0.01)+0.5*np.exp(-xv/10)+0.2*np.exp(-xv/200))\n",
    "plt.grid(color='k')"
   ]
  },
  {
   "cell_type": "markdown",
   "metadata": {},
   "source": [
    "Analogously, you can use semilogy() and loglog() for plots with log y-axis and loglog plots."
   ]
  },
  {
   "cell_type": "code",
   "execution_count": null,
   "metadata": {
    "collapsed": false
   },
   "outputs": [],
   "source": [
    "plt.semilogy(xv,np.exp(-xv/0.01)+0.5*np.exp(-xv/10)+0.2*np.exp(-xv/200))"
   ]
  },
  {
   "cell_type": "markdown",
   "metadata": {},
   "source": [
    "Anybody bar charts?"
   ]
  },
  {
   "cell_type": "code",
   "execution_count": null,
   "metadata": {
    "collapsed": false
   },
   "outputs": [],
   "source": [
    "xv=[0.5,1.5,2.5,3.5]; yv=[2,5,1,6]\n",
    "mybar=plt.bar(xv, yv, width=1, yerr=0.5, facecolor='b')"
   ]
  },
  {
   "cell_type": "markdown",
   "metadata": {},
   "source": [
    "Let's pimp the plot a little:"
   ]
  },
  {
   "cell_type": "code",
   "execution_count": null,
   "metadata": {
    "collapsed": false
   },
   "outputs": [],
   "source": [
    "mybar=plt.bar(xv, yv, width=1, yerr=0.5);\n",
    "plt.xticks(xv, ['A','B','C','D'])\n",
    "plt.setp(mybar, facecolor='r', edgecolor='w');"
   ]
  },
  {
   "cell_type": "markdown",
   "metadata": {},
   "source": [
    "For horizontal bar charts, you would use barh()."
   ]
  },
  {
   "cell_type": "markdown",
   "metadata": {},
   "source": [
    "Where there are bars, there should be pies:"
   ]
  },
  {
   "cell_type": "code",
   "execution_count": null,
   "metadata": {
    "collapsed": false
   },
   "outputs": [],
   "source": [
    "plt.figure(figsize=(5,5))\n",
    "handles=plt.pie([1,2,3,4], explode=[0.2,0,0,0], shadow=True, labels=['A','B','C','D']);\n",
    "handles"
   ]
  },
  {
   "cell_type": "markdown",
   "metadata": {},
   "source": [
    "As you will have seen, we retrieved handles to the individual pie slices. Let's do something with them:"
   ]
  },
  {
   "cell_type": "code",
   "execution_count": null,
   "metadata": {
    "collapsed": false
   },
   "outputs": [],
   "source": [
    "plt.figure(figsize=(5,5))\n",
    "handles=plt.pie([1,2,3,4], explode=[0.2,0,0,0], shadow=True, labels=['A','B','C','D'])\n",
    "plt.setp(handles[0] [0], color='y')\n",
    "plt.setp(handles[1] [0], text='Blubber');"
   ]
  },
  {
   "cell_type": "markdown",
   "metadata": {},
   "source": [
    "Matplotlib also offers quiver() plots which are illustrated in the following example (taken from http://www.loria.fr/~rougier/teaching/matplotlib/):"
   ]
  },
  {
   "cell_type": "code",
   "execution_count": null,
   "metadata": {
    "collapsed": false
   },
   "outputs": [],
   "source": [
    "n=8; X,Y=np.mgrid[0:n,0:n]\n",
    "T=np.arctan2(Y-n/2.0,X-n/2.0)\n",
    "R=10+np.sqrt((Y-n/2.0)**2+(X-n/2.0)**2)\n",
    "U,V=R*np.cos(T),R*np.sin(T)\n",
    "plt.axes([0.025,0.025,0.95,0.95])\n",
    "plt.quiver(X,Y,U,V,R,alpha=.5)\n",
    "plt.quiver(X,Y,U,V, edgecolor='k', facecolor= 'None', linewidth=.5);"
   ]
  },
  {
   "cell_type": "markdown",
   "metadata": {},
   "source": [
    "Polar plots are also nicely illustrated on the very same homepage:"
   ]
  },
  {
   "cell_type": "code",
   "execution_count": null,
   "metadata": {
    "collapsed": false
   },
   "outputs": [],
   "source": [
    "ax=plt.axes([0.025,0.025,0.95,0.95],polar=True)\n",
    "N=20; theta=np.arange(0.0,2*np.pi,2*np.pi/N)\n",
    "radii=10*np.random.rand(N)\n",
    "width=np.pi/4*np.random.rand(N)\n",
    "bars=plt.bar(theta,radii,width=width,bottom=0.0)\n",
    "for r,bar in zip(radii,bars):\n",
    "    bar.set_facecolor( plt.cm.jet(r/10.))\n",
    "    bar.set_alpha(0.5)"
   ]
  },
  {
   "cell_type": "markdown",
   "metadata": {},
   "source": [
    "Contour plots are well suited for visualization of three-dimensional data sets:"
   ]
  },
  {
   "cell_type": "code",
   "execution_count": null,
   "metadata": {
    "collapsed": false
   },
   "outputs": [],
   "source": [
    "xv=np.linspace(-10,10,100); yv=xv\n",
    "X,Y=np.meshgrid(xv,yv)\n",
    "Z=np.exp(-((X-1)**2/2/0.5**2)-((Y+2)**2/2/3**2))\n",
    "Z=Z+1.5*np.exp(-((X-5)**2/2/4**2)-((Y-6)**2/2/3**2))\n",
    "plt.contourf(X,Y,Z,10,alpha=0.5,cmap=plt.cm.hot)\n",
    "C=plt.contour(X,Y,Z,10,colors='black', linewidth=0.5)\n",
    "plt.clabel(C,inline=1,fontsize=10);"
   ]
  },
  {
   "cell_type": "markdown",
   "metadata": {},
   "source": [
    "A similar yet distinct representation is provided by pcolormesh()."
   ]
  },
  {
   "cell_type": "code",
   "execution_count": null,
   "metadata": {
    "collapsed": false
   },
   "outputs": [],
   "source": [
    "plt.pcolormesh(X,Y,Z,alpha=0.5,cmap=plt.cm.hot)\n",
    "plt.axis([-5,10,-8,10]);"
   ]
  },
  {
   "cell_type": "markdown",
   "metadata": {},
   "source": [
    "Compare the two figures, spot the similarities and differences."
   ]
  },
  {
   "cell_type": "markdown",
   "metadata": {},
   "source": [
    "Matplotlib sports an add-on module for 3D graphics as detailed below. First, we need to import this module."
   ]
  },
  {
   "cell_type": "code",
   "execution_count": null,
   "metadata": {
    "collapsed": true
   },
   "outputs": [],
   "source": [
    "from mpl_toolkits.mplot3d import Axes3D"
   ]
  },
  {
   "cell_type": "markdown",
   "metadata": {},
   "source": [
    "Let's switch to the Qt backend for 3D plotting"
   ]
  },
  {
   "cell_type": "code",
   "execution_count": null,
   "metadata": {
    "collapsed": false
   },
   "outputs": [],
   "source": [
    "%matplotlib\n",
    "plt.ioff()"
   ]
  },
  {
   "cell_type": "markdown",
   "metadata": {},
   "source": [
    "Then, we can play around."
   ]
  },
  {
   "cell_type": "code",
   "execution_count": null,
   "metadata": {
    "collapsed": false
   },
   "outputs": [],
   "source": [
    "plt.close('all'); fig=plt.figure()\n",
    "ax=Axes3D(fig)\n",
    "plt.show()"
   ]
  },
  {
   "cell_type": "markdown",
   "metadata": {},
   "source": [
    "Try moving and rotating the (so far empty) plot in three dimensions. After the first excitement has settled, let's populate the plot with some data:"
   ]
  },
  {
   "cell_type": "code",
   "execution_count": null,
   "metadata": {
    "collapsed": false
   },
   "outputs": [],
   "source": [
    "plt.close('all'); fig=plt.figure()\n",
    "ax=Axes3D(fig)\n",
    "import random as rn\n",
    "xv=[]; yv=[]; zv=[]\n",
    "for c in range(100):\n",
    "   xv.append(rn.random()); yv.append(rn.random())\n",
    "   zv.append(rn.random())\n",
    "ax.scatter(xv,yv,zv)\n",
    "plt.show()"
   ]
  },
  {
   "cell_type": "markdown",
   "metadata": {},
   "source": [
    "In addition to the above 3D scatter plot, other plot types are supported, such as 3D surface plots:"
   ]
  },
  {
   "cell_type": "code",
   "execution_count": null,
   "metadata": {
    "collapsed": false
   },
   "outputs": [],
   "source": [
    "plt.close('all'); fig=plt.figure()\n",
    "ax=Axes3D(fig)\n",
    "xv=np.linspace(-10,10,100); yv=np.linspace(-10,10,100)\n",
    "cx,cy=np.meshgrid(xv,yv)\n",
    "cz=0.5*cx+np.exp(-cy**2)\n",
    "tilt=ax.plot_surface(cx,cy,cz,linewidth=0, cmap=plt.cm.jet);\n",
    "plt.show()"
   ]
  },
  {
   "cell_type": "markdown",
   "metadata": {},
   "source": [
    "Try some other colormaps such as cm.bone, cm.spring or cm.cool (once more, these are the MATLAB color schemes)."
   ]
  },
  {
   "cell_type": "markdown",
   "metadata": {},
   "source": [
    "We do one more example that shows the use of 3D surface and 3D contour plots (as opposed to the 2D contour plots above)."
   ]
  },
  {
   "cell_type": "code",
   "execution_count": null,
   "metadata": {
    "collapsed": false
   },
   "outputs": [],
   "source": [
    "plt.close('all'); fig=plt.figure()\n",
    "ax=Axes3D(fig)\n",
    "xv=np.linspace(-10,10,100); yv=np.linspace(-10,10,100)\n",
    "cx,cy=np.meshgrid(xv,yv)\n",
    "cz=0*cx\n",
    "\n",
    "def gauss2D(x0,y0,sigx=1,sigy=1,height=1):\n",
    "   z=height*np.exp(-((cx-x0)**2/2/sigx**2)-((cy-y0)**2/2/sigy**2))\n",
    "   return z\n",
    "\n",
    "cz=cz+gauss2D(-2,3)\n",
    "cz=cz+gauss2D(2,4,2,3)\n",
    "ax.plot_surface(cx,cy,cz,linewidth=0,cstride=2, rstride=2,cmap=plt.cm.jet)\n",
    "plt.show()"
   ]
  },
  {
   "cell_type": "markdown",
   "metadata": {},
   "source": [
    "Let's display the same data in contour representation:"
   ]
  },
  {
   "cell_type": "code",
   "execution_count": null,
   "metadata": {
    "collapsed": false
   },
   "outputs": [],
   "source": [
    "plt.close('all'); fig=plt.figure()\n",
    "ax=Axes3D(fig)\n",
    "ax.contour(cx,cy,cz,cstride=2,rstride=2, cmap=plt.cm.jet)\n",
    "plt.show()"
   ]
  },
  {
   "cell_type": "markdown",
   "metadata": {},
   "source": [
    "# Style sheets"
   ]
  },
  {
   "cell_type": "code",
   "execution_count": null,
   "metadata": {
    "collapsed": false
   },
   "outputs": [],
   "source": [
    "%matplotlib inline\n",
    "plt.close('all')"
   ]
  },
  {
   "cell_type": "markdown",
   "metadata": {},
   "source": [
    "There are several predefinded style sheets for matplotlib. You can show all availible styles by typing"
   ]
  },
  {
   "cell_type": "code",
   "execution_count": null,
   "metadata": {
    "collapsed": false
   },
   "outputs": [],
   "source": [
    "plt.style.available"
   ]
  },
  {
   "cell_type": "markdown",
   "metadata": {},
   "source": [
    "to pick one of them, type e.g."
   ]
  },
  {
   "cell_type": "code",
   "execution_count": null,
   "metadata": {
    "collapsed": false
   },
   "outputs": [],
   "source": [
    "plt.style.use('ggplot')"
   ]
  },
  {
   "cell_type": "markdown",
   "metadata": {},
   "source": [
    "and your plots will look similar to those created with [ggplot2 in R](https://en.wikipedia.org/wiki/Ggplot2)"
   ]
  },
  {
   "cell_type": "code",
   "execution_count": null,
   "metadata": {
    "collapsed": false
   },
   "outputs": [],
   "source": [
    "x = np.linspace(0,10,100)\n",
    "y = np.sin(x)\n",
    "plt.plot(x,y)"
   ]
  }
 ],
 "metadata": {
  "kernelspec": {
   "display_name": "Python 3",
   "language": "python",
   "name": "python3"
  },
  "language_info": {
   "codemirror_mode": {
    "name": "ipython",
    "version": 3
   },
   "file_extension": ".py",
   "mimetype": "text/x-python",
   "name": "python",
   "nbconvert_exporter": "python",
   "pygments_lexer": "ipython3",
   "version": "3.5.2"
  }
 },
 "nbformat": 4,
 "nbformat_minor": 0
}
